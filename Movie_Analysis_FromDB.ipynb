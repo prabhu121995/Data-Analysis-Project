{
 "cells": [
  {
   "cell_type": "code",
   "execution_count": 1,
   "metadata": {},
   "outputs": [],
   "source": [
    "import pandas as pd\n",
    "import numpy as np\n",
    "import matplotlib.pyplot as plt\n",
    "import seaborn as sns\n",
    "import warnings\n",
    "warnings.filterwarnings('ignore')"
   ]
  },
  {
   "cell_type": "markdown",
   "metadata": {},
   "source": [
    "**Connection String**"
   ]
  },
  {
   "cell_type": "code",
   "execution_count": 2,
   "metadata": {},
   "outputs": [],
   "source": [
    "import sqlalchemy\n",
    "# Connect to database\n",
    "PWD='root'\n",
    "USR='root'\n",
    "SQLALCHEMY_DATABASE_URI = 'mysql+pymysql://{}:{}@localhost:3306/moviesdb'.format(USR, PWD)\n",
    "engine = sqlalchemy.create_engine(SQLALCHEMY_DATABASE_URI)\n"
   ]
  },
  {
   "cell_type": "markdown",
   "metadata": {},
   "source": [
    "**Basic**"
   ]
  },
  {
   "cell_type": "code",
   "execution_count": 3,
   "metadata": {},
   "outputs": [
    {
     "name": "stdout",
     "output_type": "stream",
     "text": [
      "   movie_id                                        title   industry  \\\n",
      "0       101                             K.G.F: Chapter 2  Bollywood   \n",
      "1       102  Doctor Strange in the Multiverse of Madness  Hollywood   \n",
      "2       103                        Thor: The Dark World   Hollywood   \n",
      "3       104                              Thor: Ragnarok   Hollywood   \n",
      "4       105                      Thor: Love and Thunder   Hollywood   \n",
      "\n",
      "   release_year  imdb_rating          studio  language_id  \n",
      "0          2022          8.4   Hombale Films            3  \n",
      "1          2022          7.0  Marvel Studios            5  \n",
      "2          2013          6.8  Marvel Studios            5  \n",
      "3          2017          7.9  Marvel Studios            5  \n",
      "4          2022          6.8  Marvel Studios            5  \n",
      "Index(['movie_id', 'title', 'industry', 'release_year', 'imdb_rating',\n",
      "       'studio', 'language_id'],\n",
      "      dtype='object')\n"
     ]
    }
   ],
   "source": [
    "df = pd.read_sql(\"movies\",engine)\n",
    "print(df.head())\n",
    "print(df.columns)"
   ]
  },
  {
   "cell_type": "code",
   "execution_count": 4,
   "metadata": {},
   "outputs": [
    {
     "name": "stdout",
     "output_type": "stream",
     "text": [
      "   movie_id  budget  revenue      unit currency  revenue_M  converstion\n",
      "0       101     1.0     12.5  Billions      INR    12500.0            1\n",
      "1       102   200.0    954.8  Millions      USD      954.8           77\n",
      "2       103   165.0    644.8  Millions      USD      644.8           77\n",
      "3       104   180.0    854.0  Millions      USD      854.0           77\n",
      "4       105   250.0    670.0  Millions      USD      670.0           77\n"
     ]
    }
   ],
   "source": [
    "\n",
    "query = \"\"\"\n",
    "select *,\n",
    "\tcase when unit =\"Billions\" then revenue*1000\n",
    "         when unit = \"Thousands\" then revenue/1000\n",
    "\t\t else revenue\n",
    "    end as revenue_M,\n",
    "    if(currency = \"USD\",77,1) as converstion\n",
    " from moviesdb.financials\n",
    "\"\"\"\n",
    "df_fin = pd.read_sql(query,engine)\n",
    "print(df_fin.head())"
   ]
  },
  {
   "cell_type": "code",
   "execution_count": 5,
   "metadata": {},
   "outputs": [
    {
     "name": "stdout",
     "output_type": "stream",
     "text": [
      "   movie_id  budget  revenue      unit currency  revenue_M  converstion  \\\n",
      "0       101     1.0     12.5  Billions      INR    12500.0            1   \n",
      "1       102   200.0    954.8  Millions      USD      954.8           77   \n",
      "2       103   165.0    644.8  Millions      USD      644.8           77   \n",
      "3       104   180.0    854.0  Millions      USD      854.0           77   \n",
      "4       105   250.0    670.0  Millions      USD      670.0           77   \n",
      "\n",
      "   revenue_M_Inr  \n",
      "0        12500.0  \n",
      "1        73519.6  \n",
      "2        49649.6  \n",
      "3        65758.0  \n",
      "4        51590.0  \n"
     ]
    }
   ],
   "source": [
    "df_fin['revenue_M_Inr'] = df_fin['revenue_M']*df_fin['converstion']\n",
    "print(df_fin.head())"
   ]
  },
  {
   "cell_type": "markdown",
   "metadata": {},
   "source": [
    "**Join**"
   ]
  },
  {
   "cell_type": "code",
   "execution_count": 6,
   "metadata": {},
   "outputs": [
    {
     "data": {
      "text/plain": [
       "(37, 6)"
      ]
     },
     "execution_count": 6,
     "metadata": {},
     "output_type": "execute_result"
    }
   ],
   "source": [
    "query = \"\"\"\n",
    "select m.movie_id,m.title,f.budget,f.revenue,f.currency,f.unit\n",
    "from moviesdb.movies m\n",
    "join moviesdb.financials f on m.movie_id = f.movie_id\n",
    "\"\"\"\n",
    "df_movie_fin = pd.read_sql(query,engine)\n",
    "df_movie_fin.shape"
   ]
  },
  {
   "cell_type": "code",
   "execution_count": 7,
   "metadata": {},
   "outputs": [
    {
     "data": {
      "text/plain": [
       "(42, 6)"
      ]
     },
     "execution_count": 7,
     "metadata": {},
     "output_type": "execute_result"
    }
   ],
   "source": [
    "query = \"\"\"\n",
    "select m.movie_id,m.title,f.budget,f.revenue,f.currency,f.unit\n",
    "from moviesdb.movies m\n",
    "left join moviesdb.financials f on m.movie_id = f.movie_id\n",
    "union \n",
    "select f.movie_id,m.title,f.budget,f.revenue,f.currency,f.unit\n",
    "from moviesdb.movies m\n",
    "right join moviesdb.financials f on m.movie_id = f.movie_id\n",
    "\"\"\"\n",
    "df_movie_fin = pd.read_sql(query,engine)\n",
    "df_movie_fin.shape"
   ]
  },
  {
   "cell_type": "code",
   "execution_count": 8,
   "metadata": {},
   "outputs": [
    {
     "data": {
      "text/plain": [
       "(39, 6)"
      ]
     },
     "execution_count": 8,
     "metadata": {},
     "output_type": "execute_result"
    }
   ],
   "source": [
    "query = \"\"\"\n",
    "select m.movie_id,m.title,f.budget,f.revenue,f.currency,f.unit\n",
    "from moviesdb.movies m\n",
    "left join moviesdb.financials f on m.movie_id = f.movie_id\n",
    "\"\"\"\n",
    "df_movie_fin_left = pd.read_sql(query,engine)\n",
    "df_movie_fin_left.shape"
   ]
  },
  {
   "cell_type": "code",
   "execution_count": 9,
   "metadata": {},
   "outputs": [
    {
     "data": {
      "text/plain": [
       "(40, 6)"
      ]
     },
     "execution_count": 9,
     "metadata": {},
     "output_type": "execute_result"
    }
   ],
   "source": [
    "query = \"\"\"\n",
    "select f.movie_id,m.title,f.budget,f.revenue,f.currency,f.unit\n",
    "from moviesdb.movies m\n",
    "right join moviesdb.financials f on m.movie_id = f.movie_id\n",
    "\"\"\"\n",
    "df_movie_fin_right = pd.read_sql(query,engine)\n",
    "df_movie_fin_right.shape"
   ]
  },
  {
   "cell_type": "code",
   "execution_count": 10,
   "metadata": {},
   "outputs": [
    {
     "data": {
      "text/plain": [
       "(40, 12)"
      ]
     },
     "execution_count": 10,
     "metadata": {},
     "output_type": "execute_result"
    }
   ],
   "source": [
    "df_movie_concat = pd.concat([df_movie_fin_left,df_movie_fin_right],axis=1)\n",
    "df_movie_concat.shape"
   ]
  },
  {
   "cell_type": "code",
   "execution_count": 11,
   "metadata": {},
   "outputs": [
    {
     "name": "stdout",
     "output_type": "stream",
     "text": [
      "(37, 11)\n"
     ]
    }
   ],
   "source": [
    "df_movie_merge = pd.merge(df_movie_fin_left,df_movie_fin_right,on='movie_id')\n",
    "print(df_movie_merge.shape)"
   ]
  },
  {
   "cell_type": "markdown",
   "metadata": {},
   "source": [
    "**Complex Queries**"
   ]
  },
  {
   "cell_type": "markdown",
   "metadata": {},
   "source": [
    "subquery"
   ]
  },
  {
   "cell_type": "code",
   "execution_count": 12,
   "metadata": {},
   "outputs": [
    {
     "data": {
      "text/html": [
       "<div>\n",
       "<style scoped>\n",
       "    .dataframe tbody tr th:only-of-type {\n",
       "        vertical-align: middle;\n",
       "    }\n",
       "\n",
       "    .dataframe tbody tr th {\n",
       "        vertical-align: top;\n",
       "    }\n",
       "\n",
       "    .dataframe thead th {\n",
       "        text-align: right;\n",
       "    }\n",
       "</style>\n",
       "<table border=\"1\" class=\"dataframe\">\n",
       "  <thead>\n",
       "    <tr style=\"text-align: right;\">\n",
       "      <th></th>\n",
       "      <th>movie_id</th>\n",
       "      <th>title</th>\n",
       "      <th>industry</th>\n",
       "      <th>release_year</th>\n",
       "      <th>imdb_rating</th>\n",
       "      <th>studio</th>\n",
       "      <th>language_id</th>\n",
       "    </tr>\n",
       "  </thead>\n",
       "  <tbody>\n",
       "    <tr>\n",
       "      <th>0</th>\n",
       "      <td>111</td>\n",
       "      <td>The Shawshank Redemption</td>\n",
       "      <td>Hollywood</td>\n",
       "      <td>1994</td>\n",
       "      <td>9.3</td>\n",
       "      <td>Castle Rock Entertainment</td>\n",
       "      <td>5</td>\n",
       "    </tr>\n",
       "  </tbody>\n",
       "</table>\n",
       "</div>"
      ],
      "text/plain": [
       "   movie_id                     title   industry  release_year  imdb_rating  \\\n",
       "0       111  The Shawshank Redemption  Hollywood          1994          9.3   \n",
       "\n",
       "                      studio  language_id  \n",
       "0  Castle Rock Entertainment            5  "
      ]
     },
     "execution_count": 12,
     "metadata": {},
     "output_type": "execute_result"
    }
   ],
   "source": [
    "# return single value in where condition\n",
    "query = \"\"\"\n",
    "select * from moviesdb.movies \n",
    "where imdb_rating = (select max(imdb_rating) from moviesdb.movies)\n",
    "\"\"\"\n",
    "df_movie_fin_right = pd.read_sql(query,engine)\n",
    "df_movie_fin_right.head()"
   ]
  },
  {
   "cell_type": "code",
   "execution_count": 13,
   "metadata": {},
   "outputs": [
    {
     "data": {
      "text/html": [
       "<div>\n",
       "<style scoped>\n",
       "    .dataframe tbody tr th:only-of-type {\n",
       "        vertical-align: middle;\n",
       "    }\n",
       "\n",
       "    .dataframe tbody tr th {\n",
       "        vertical-align: top;\n",
       "    }\n",
       "\n",
       "    .dataframe thead th {\n",
       "        text-align: right;\n",
       "    }\n",
       "</style>\n",
       "<table border=\"1\" class=\"dataframe\">\n",
       "  <thead>\n",
       "    <tr style=\"text-align: right;\">\n",
       "      <th></th>\n",
       "      <th>movie_id</th>\n",
       "      <th>title</th>\n",
       "      <th>industry</th>\n",
       "      <th>release_year</th>\n",
       "      <th>imdb_rating</th>\n",
       "      <th>studio</th>\n",
       "      <th>language_id</th>\n",
       "    </tr>\n",
       "  </thead>\n",
       "  <tbody>\n",
       "    <tr>\n",
       "      <th>0</th>\n",
       "      <td>111</td>\n",
       "      <td>The Shawshank Redemption</td>\n",
       "      <td>Hollywood</td>\n",
       "      <td>1994</td>\n",
       "      <td>9.3</td>\n",
       "      <td>Castle Rock Entertainment</td>\n",
       "      <td>5</td>\n",
       "    </tr>\n",
       "    <tr>\n",
       "      <th>1</th>\n",
       "      <td>139</td>\n",
       "      <td>Race 3</td>\n",
       "      <td>Bollywood</td>\n",
       "      <td>2018</td>\n",
       "      <td>1.9</td>\n",
       "      <td>Salman Khan Films</td>\n",
       "      <td>1</td>\n",
       "    </tr>\n",
       "  </tbody>\n",
       "</table>\n",
       "</div>"
      ],
      "text/plain": [
       "   movie_id                     title   industry  release_year  imdb_rating  \\\n",
       "0       111  The Shawshank Redemption  Hollywood          1994          9.3   \n",
       "1       139                    Race 3  Bollywood          2018          1.9   \n",
       "\n",
       "                      studio  language_id  \n",
       "0  Castle Rock Entertainment            5  \n",
       "1          Salman Khan Films            1  "
      ]
     },
     "execution_count": 13,
     "metadata": {},
     "output_type": "execute_result"
    }
   ],
   "source": [
    "# return multipule value in where condition\n",
    "query = \"\"\"\n",
    "select * from moviesdb.movies \n",
    "where imdb_rating In (\n",
    "(select max(imdb_rating) from moviesdb.movies) , \n",
    "(select min(imdb_rating) from moviesdb.movies)\n",
    ");\n",
    "\"\"\"\n",
    "df_movie_fin_right = pd.read_sql(query,engine)\n",
    "df_movie_fin_right.head()"
   ]
  },
  {
   "cell_type": "code",
   "execution_count": 14,
   "metadata": {},
   "outputs": [
    {
     "data": {
      "text/html": [
       "<div>\n",
       "<style scoped>\n",
       "    .dataframe tbody tr th:only-of-type {\n",
       "        vertical-align: middle;\n",
       "    }\n",
       "\n",
       "    .dataframe tbody tr th {\n",
       "        vertical-align: top;\n",
       "    }\n",
       "\n",
       "    .dataframe thead th {\n",
       "        text-align: right;\n",
       "    }\n",
       "</style>\n",
       "<table border=\"1\" class=\"dataframe\">\n",
       "  <thead>\n",
       "    <tr style=\"text-align: right;\">\n",
       "      <th></th>\n",
       "      <th>actor_id</th>\n",
       "      <th>name</th>\n",
       "      <th>birth_year</th>\n",
       "      <th>age</th>\n",
       "    </tr>\n",
       "  </thead>\n",
       "  <tbody>\n",
       "    <tr>\n",
       "      <th>0</th>\n",
       "      <td>50</td>\n",
       "      <td>Yash</td>\n",
       "      <td>1986</td>\n",
       "      <td>37</td>\n",
       "    </tr>\n",
       "    <tr>\n",
       "      <th>1</th>\n",
       "      <td>51</td>\n",
       "      <td>Sanjay Dutt</td>\n",
       "      <td>1959</td>\n",
       "      <td>64</td>\n",
       "    </tr>\n",
       "    <tr>\n",
       "      <th>2</th>\n",
       "      <td>52</td>\n",
       "      <td>Benedict Cumberbatch</td>\n",
       "      <td>1976</td>\n",
       "      <td>47</td>\n",
       "    </tr>\n",
       "    <tr>\n",
       "      <th>3</th>\n",
       "      <td>53</td>\n",
       "      <td>Elizabeth Olsen</td>\n",
       "      <td>1989</td>\n",
       "      <td>34</td>\n",
       "    </tr>\n",
       "    <tr>\n",
       "      <th>4</th>\n",
       "      <td>54</td>\n",
       "      <td>Chris Hemsworth</td>\n",
       "      <td>1983</td>\n",
       "      <td>40</td>\n",
       "    </tr>\n",
       "  </tbody>\n",
       "</table>\n",
       "</div>"
      ],
      "text/plain": [
       "   actor_id                  name  birth_year  age\n",
       "0        50                  Yash        1986   37\n",
       "1        51           Sanjay Dutt        1959   64\n",
       "2        52  Benedict Cumberbatch        1976   47\n",
       "3        53       Elizabeth Olsen        1989   34\n",
       "4        54       Chris Hemsworth        1983   40"
      ]
     },
     "execution_count": 14,
     "metadata": {},
     "output_type": "execute_result"
    }
   ],
   "source": [
    "# return multipule value in where condition\n",
    "query = \"\"\"\n",
    "select *,\n",
    "Year(current_date())-birth_year as age\n",
    " from moviesdb.actors\n",
    "\"\"\"\n",
    "df_actors = pd.read_sql(query,engine)\n",
    "df_actors.head()"
   ]
  },
  {
   "cell_type": "markdown",
   "metadata": {},
   "source": [
    "co-related query"
   ]
  },
  {
   "cell_type": "code",
   "execution_count": 15,
   "metadata": {},
   "outputs": [
    {
     "data": {
      "text/html": [
       "<div>\n",
       "<style scoped>\n",
       "    .dataframe tbody tr th:only-of-type {\n",
       "        vertical-align: middle;\n",
       "    }\n",
       "\n",
       "    .dataframe tbody tr th {\n",
       "        vertical-align: top;\n",
       "    }\n",
       "\n",
       "    .dataframe thead th {\n",
       "        text-align: right;\n",
       "    }\n",
       "</style>\n",
       "<table border=\"1\" class=\"dataframe\">\n",
       "  <thead>\n",
       "    <tr style=\"text-align: right;\">\n",
       "      <th></th>\n",
       "      <th>actor_id</th>\n",
       "      <th>name</th>\n",
       "      <th>movie_count</th>\n",
       "    </tr>\n",
       "  </thead>\n",
       "  <tbody>\n",
       "    <tr>\n",
       "      <th>0</th>\n",
       "      <td>54</td>\n",
       "      <td>Chris Hemsworth</td>\n",
       "      <td>5</td>\n",
       "    </tr>\n",
       "    <tr>\n",
       "      <th>1</th>\n",
       "      <td>95</td>\n",
       "      <td>Chris Evans</td>\n",
       "      <td>4</td>\n",
       "    </tr>\n",
       "    <tr>\n",
       "      <th>2</th>\n",
       "      <td>61</td>\n",
       "      <td>Aamir Khan</td>\n",
       "      <td>3</td>\n",
       "    </tr>\n",
       "    <tr>\n",
       "      <th>3</th>\n",
       "      <td>51</td>\n",
       "      <td>Sanjay Dutt</td>\n",
       "      <td>2</td>\n",
       "    </tr>\n",
       "    <tr>\n",
       "      <th>4</th>\n",
       "      <td>59</td>\n",
       "      <td>Shah Rukh Khan</td>\n",
       "      <td>2</td>\n",
       "    </tr>\n",
       "  </tbody>\n",
       "</table>\n",
       "</div>"
      ],
      "text/plain": [
       "   actor_id             name  movie_count\n",
       "0        54  Chris Hemsworth            5\n",
       "1        95      Chris Evans            4\n",
       "2        61       Aamir Khan            3\n",
       "3        51      Sanjay Dutt            2\n",
       "4        59   Shah Rukh Khan            2"
      ]
     },
     "execution_count": 15,
     "metadata": {},
     "output_type": "execute_result"
    }
   ],
   "source": [
    "# join\n",
    "query = \"\"\"\n",
    "select ma.actor_id,a.name,count(ma.movie_id) as movie_count\n",
    "from moviesdb.movie_actor as ma\n",
    "left join moviesdb.actors a on a.actor_id = ma.actor_id\n",
    "group by ma.actor_id,a.name \n",
    "order by movie_count desc\n",
    "\"\"\"\n",
    "df_actors = pd.read_sql(query,engine)\n",
    "df_actors.head()"
   ]
  },
  {
   "cell_type": "code",
   "execution_count": 16,
   "metadata": {},
   "outputs": [
    {
     "data": {
      "text/html": [
       "<div>\n",
       "<style scoped>\n",
       "    .dataframe tbody tr th:only-of-type {\n",
       "        vertical-align: middle;\n",
       "    }\n",
       "\n",
       "    .dataframe tbody tr th {\n",
       "        vertical-align: top;\n",
       "    }\n",
       "\n",
       "    .dataframe thead th {\n",
       "        text-align: right;\n",
       "    }\n",
       "</style>\n",
       "<table border=\"1\" class=\"dataframe\">\n",
       "  <thead>\n",
       "    <tr style=\"text-align: right;\">\n",
       "      <th></th>\n",
       "      <th>movie_id</th>\n",
       "      <th>title</th>\n",
       "      <th>actors_count</th>\n",
       "    </tr>\n",
       "  </thead>\n",
       "  <tbody>\n",
       "    <tr>\n",
       "      <th>0</th>\n",
       "      <td>108</td>\n",
       "      <td>3 Idiots</td>\n",
       "      <td>3</td>\n",
       "    </tr>\n",
       "    <tr>\n",
       "      <th>1</th>\n",
       "      <td>109</td>\n",
       "      <td>Kabhi Khushi Kabhie Gham</td>\n",
       "      <td>3</td>\n",
       "    </tr>\n",
       "    <tr>\n",
       "      <th>2</th>\n",
       "      <td>103</td>\n",
       "      <td>Thor: The Dark World</td>\n",
       "      <td>3</td>\n",
       "    </tr>\n",
       "    <tr>\n",
       "      <th>3</th>\n",
       "      <td>125</td>\n",
       "      <td>Avengers: Endgame</td>\n",
       "      <td>3</td>\n",
       "    </tr>\n",
       "    <tr>\n",
       "      <th>4</th>\n",
       "      <td>126</td>\n",
       "      <td>Avengers: Infinity War</td>\n",
       "      <td>3</td>\n",
       "    </tr>\n",
       "  </tbody>\n",
       "</table>\n",
       "</div>"
      ],
      "text/plain": [
       "   movie_id                     title  actors_count\n",
       "0       108                  3 Idiots             3\n",
       "1       109  Kabhi Khushi Kabhie Gham             3\n",
       "2       103     Thor: The Dark World              3\n",
       "3       125         Avengers: Endgame             3\n",
       "4       126    Avengers: Infinity War             3"
      ]
     },
     "execution_count": 16,
     "metadata": {},
     "output_type": "execute_result"
    }
   ],
   "source": [
    "#co-related query\n",
    "query = \"\"\"\n",
    "select m.movie_id,m.title,\n",
    "(\n",
    "select count(*) from movie_actor where movie_id = m.movie_id\n",
    ") as actors_count\n",
    "from moviesdb.movies m\n",
    "order by actors_count desc\n",
    "\"\"\"\n",
    "df_actors = pd.read_sql(query,engine)\n",
    "df_actors.head()"
   ]
  },
  {
   "cell_type": "markdown",
   "metadata": {},
   "source": [
    "CTE"
   ]
  },
  {
   "cell_type": "code",
   "execution_count": 17,
   "metadata": {},
   "outputs": [
    {
     "data": {
      "text/html": [
       "<div>\n",
       "<style scoped>\n",
       "    .dataframe tbody tr th:only-of-type {\n",
       "        vertical-align: middle;\n",
       "    }\n",
       "\n",
       "    .dataframe tbody tr th {\n",
       "        vertical-align: top;\n",
       "    }\n",
       "\n",
       "    .dataframe thead th {\n",
       "        text-align: right;\n",
       "    }\n",
       "</style>\n",
       "<table border=\"1\" class=\"dataframe\">\n",
       "  <thead>\n",
       "    <tr style=\"text-align: right;\">\n",
       "      <th></th>\n",
       "      <th>movie_id</th>\n",
       "      <th>budget</th>\n",
       "      <th>revenue</th>\n",
       "      <th>unit</th>\n",
       "      <th>currency</th>\n",
       "      <th>pct</th>\n",
       "      <th>revenue_inr</th>\n",
       "      <th>revenue_mln</th>\n",
       "    </tr>\n",
       "  </thead>\n",
       "  <tbody>\n",
       "    <tr>\n",
       "      <th>0</th>\n",
       "      <td>101</td>\n",
       "      <td>1.0</td>\n",
       "      <td>12.5</td>\n",
       "      <td>Billions</td>\n",
       "      <td>INR</td>\n",
       "      <td>11.5</td>\n",
       "      <td>12.5</td>\n",
       "      <td>12500.0</td>\n",
       "    </tr>\n",
       "    <tr>\n",
       "      <th>1</th>\n",
       "      <td>102</td>\n",
       "      <td>200.0</td>\n",
       "      <td>954.8</td>\n",
       "      <td>Millions</td>\n",
       "      <td>USD</td>\n",
       "      <td>754.8</td>\n",
       "      <td>73519.6</td>\n",
       "      <td>73519.6</td>\n",
       "    </tr>\n",
       "    <tr>\n",
       "      <th>2</th>\n",
       "      <td>103</td>\n",
       "      <td>165.0</td>\n",
       "      <td>644.8</td>\n",
       "      <td>Millions</td>\n",
       "      <td>USD</td>\n",
       "      <td>479.8</td>\n",
       "      <td>49649.6</td>\n",
       "      <td>49649.6</td>\n",
       "    </tr>\n",
       "    <tr>\n",
       "      <th>3</th>\n",
       "      <td>104</td>\n",
       "      <td>180.0</td>\n",
       "      <td>854.0</td>\n",
       "      <td>Millions</td>\n",
       "      <td>USD</td>\n",
       "      <td>674.0</td>\n",
       "      <td>65758.0</td>\n",
       "      <td>65758.0</td>\n",
       "    </tr>\n",
       "    <tr>\n",
       "      <th>4</th>\n",
       "      <td>105</td>\n",
       "      <td>250.0</td>\n",
       "      <td>670.0</td>\n",
       "      <td>Millions</td>\n",
       "      <td>USD</td>\n",
       "      <td>420.0</td>\n",
       "      <td>51590.0</td>\n",
       "      <td>51590.0</td>\n",
       "    </tr>\n",
       "  </tbody>\n",
       "</table>\n",
       "</div>"
      ],
      "text/plain": [
       "   movie_id  budget  revenue      unit currency    pct  revenue_inr  \\\n",
       "0       101     1.0     12.5  Billions      INR   11.5         12.5   \n",
       "1       102   200.0    954.8  Millions      USD  754.8      73519.6   \n",
       "2       103   165.0    644.8  Millions      USD  479.8      49649.6   \n",
       "3       104   180.0    854.0  Millions      USD  674.0      65758.0   \n",
       "4       105   250.0    670.0  Millions      USD  420.0      51590.0   \n",
       "\n",
       "   revenue_mln  \n",
       "0      12500.0  \n",
       "1      73519.6  \n",
       "2      49649.6  \n",
       "3      65758.0  \n",
       "4      51590.0  "
      ]
     },
     "execution_count": 17,
     "metadata": {},
     "output_type": "execute_result"
    }
   ],
   "source": [
    "#co-related query\n",
    "query = \"\"\"\n",
    "with cte1 as (\n",
    "SELECT *,\n",
    "(revenue - budget) as pct,\n",
    "if(currency = 'USD',revenue*77,revenue) as revenue_inr\n",
    "FROM moviesdb.financials\n",
    ")select *,\n",
    "(CASE\n",
    "WHEN unit = 'Billions' then revenue_inr * 1000\n",
    "when unit = 'Thousands' then revenue_inr/1000\n",
    "else revenue_inr end) as revenue_mln\n",
    "from cte1;\n",
    "\"\"\"\n",
    "df_actors = pd.read_sql(query,engine)\n",
    "df_actors.head()"
   ]
  }
 ],
 "metadata": {
  "kernelspec": {
   "display_name": "Python 3",
   "language": "python",
   "name": "python3"
  },
  "language_info": {
   "codemirror_mode": {
    "name": "ipython",
    "version": 3
   },
   "file_extension": ".py",
   "mimetype": "text/x-python",
   "name": "python",
   "nbconvert_exporter": "python",
   "pygments_lexer": "ipython3",
   "version": "3.11.3"
  }
 },
 "nbformat": 4,
 "nbformat_minor": 2
}

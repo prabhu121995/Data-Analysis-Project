{
 "cells": [
  {
   "cell_type": "code",
   "execution_count": 2,
   "metadata": {},
   "outputs": [],
   "source": [
    "import pandas as pd\n",
    "import numpy as np\n",
    "import matplotlib as plt\n",
    "import seaborn as sns\n",
    "import warnings\n",
    "warnings.filterwarnings('ignore')"
   ]
  },
  {
   "cell_type": "code",
   "execution_count": 3,
   "metadata": {},
   "outputs": [],
   "source": [
    "import sqlalchemy\n",
    "# Connect to database\n",
    "PWD='root'\n",
    "USR='root'\n",
    "SQLALCHEMY_DATABASE_URI = 'mysql+pymysql://{}:{}@localhost:3306/gdb0041'.format(USR, PWD)\n",
    "engine = sqlalchemy.create_engine(SQLALCHEMY_DATABASE_URI)"
   ]
  },
  {
   "cell_type": "markdown",
   "metadata": {},
   "source": [
    "**P&L Statement**<br />\n",
    "Gross = 50<br />\n",
    "pre-Invoice deduction = 5(for regular customer)<br />\n",
    "Net-Invoice-sales = 45<br />\n",
    "post-Invoice deduction = 5(display priority fee)<br />\n",
    "Net-Sales = 40<br />\n",
    "COGS = 20 (COST OF GOODS SOLD)<br />\n",
    "Margin = 20<br />\n",
    "margin % = 50 (M/NS)<br />"
   ]
  },
  {
   "cell_type": "markdown",
   "metadata": {},
   "source": [
    "Find the croma customer aggregated by product in monthly basis"
   ]
  },
  {
   "cell_type": "code",
   "execution_count": 4,
   "metadata": {},
   "outputs": [
    {
     "data": {
      "text/html": [
       "<div>\n",
       "<style scoped>\n",
       "    .dataframe tbody tr th:only-of-type {\n",
       "        vertical-align: middle;\n",
       "    }\n",
       "\n",
       "    .dataframe tbody tr th {\n",
       "        vertical-align: top;\n",
       "    }\n",
       "\n",
       "    .dataframe thead th {\n",
       "        text-align: right;\n",
       "    }\n",
       "</style>\n",
       "<table border=\"1\" class=\"dataframe\">\n",
       "  <thead>\n",
       "    <tr style=\"text-align: right;\">\n",
       "      <th></th>\n",
       "      <th>customer_code</th>\n",
       "      <th>customer</th>\n",
       "      <th>platform</th>\n",
       "      <th>channel</th>\n",
       "      <th>market</th>\n",
       "      <th>sub_zone</th>\n",
       "      <th>region</th>\n",
       "    </tr>\n",
       "  </thead>\n",
       "  <tbody>\n",
       "    <tr>\n",
       "      <th>48</th>\n",
       "      <td>90002002</td>\n",
       "      <td>Croma</td>\n",
       "      <td>Brick &amp; Mortar</td>\n",
       "      <td>Retailer</td>\n",
       "      <td>India</td>\n",
       "      <td>India</td>\n",
       "      <td>APAC</td>\n",
       "    </tr>\n",
       "  </tbody>\n",
       "</table>\n",
       "</div>"
      ],
      "text/plain": [
       "    customer_code customer        platform   channel market sub_zone region\n",
       "48       90002002    Croma  Brick & Mortar  Retailer  India    India   APAC"
      ]
     },
     "execution_count": 4,
     "metadata": {},
     "output_type": "execute_result"
    }
   ],
   "source": [
    "query = \"\"\"\n",
    "select * from dim_customer \n",
    "\"\"\"\n",
    "df_dim_customer = pd.read_sql(query,engine)\n",
    "#df_dim_customer['customer'].unique()\n",
    "df_dim_customer[df_dim_customer['customer'] == 'Croma']"
   ]
  },
  {
   "cell_type": "markdown",
   "metadata": {},
   "source": [
    "To create a fiscal year calendar, add 4 months to the calendar date in the database where September marks the fiscal year's start"
   ]
  },
  {
   "cell_type": "code",
   "execution_count": 5,
   "metadata": {},
   "outputs": [
    {
     "name": "stdout",
     "output_type": "stream",
     "text": [
      "           date product_code  customer_code  sold_quantity Quater\n",
      "663  2020-10-01  A7321160301       90002002            479     Q1\n",
      "664  2020-09-01  A7321160302       90002002            507     Q1\n",
      "665  2020-10-01  A7321160302       90002002            243     Q1\n",
      "666  2020-09-01  A7321160303       90002002            190     Q1\n",
      "667  2020-10-01  A7321160303       90002002            586     Q1\n"
     ]
    }
   ],
   "source": [
    "query = \"\"\"\n",
    "select *,\n",
    "(CASE when Month(date) in (9,10,11) Then 'Q1'\n",
    "     when Month(date) in (12,1,2) Then 'Q2'\n",
    "     when Month(date) in (3,4,5) Then 'Q3' else 'Q4' END ) AS Quater\n",
    " from fact_sales_monthly\n",
    "where customer_code = 90002002 and\n",
    "year(date_add(date,interval 4 month)) = 2021 and\n",
    "(CASE when Month(date) in (9,10,11) Then 'Q1'\n",
    "     when Month(date) in (12,1,2) Then 'Q2'\n",
    "     when Month(date) in (3,4,5) Then 'Q3' else 'Q4' END )='Q1'\n",
    "\"\"\"\n",
    "df_fact_sales_monthly = pd.read_sql(query,engine)\n",
    "print(df_fact_sales_monthly.tail())"
   ]
  },
  {
   "cell_type": "code",
   "execution_count": 6,
   "metadata": {},
   "outputs": [
    {
     "name": "stdout",
     "output_type": "stream",
     "text": [
      "            date product_code          product  variant  sold_quantity  \\\n",
      "3001  2021-02-01  A7321160303  AQ Wi Power Dx3  Premium            186   \n",
      "3002  2021-04-01  A7321160303  AQ Wi Power Dx3  Premium            148   \n",
      "3003  2021-05-01  A7321160303  AQ Wi Power Dx3  Premium            487   \n",
      "3004  2021-06-01  A7321160303  AQ Wi Power Dx3  Premium            289   \n",
      "3005  2021-08-01  A7321160303  AQ Wi Power Dx3  Premium            158   \n",
      "\n",
      "      gross_price  Total_gp  \n",
      "3001      42.8483   7969.78  \n",
      "3002      42.8483   6341.55  \n",
      "3003      42.8483  20867.12  \n",
      "3004      42.8483  12383.16  \n",
      "3005      42.8483   6770.03  \n"
     ]
    }
   ],
   "source": [
    "query = \"\"\"\n",
    "select m.date,m.product_code,\n",
    "       p.product,p.variant,m.sold_quantity,\n",
    "       gp.gross_price,round(m.sold_quantity*gp.gross_price,2) as Total_gp\n",
    " from fact_sales_monthly m\n",
    " join dim_product p on p.product_code = m.product_code\n",
    " join fact_gross_price gp on gp.product_code = m.product_code and gp.fiscal_year = get_fiscal_year(m.date)\n",
    "where customer_code = 90002002 and\n",
    "get_fiscal_year(date) = 2021;\n",
    "\"\"\"\n",
    "fact_sales_monthly = pd.read_sql(query,engine)\n",
    "print(fact_sales_monthly.tail())"
   ]
  },
  {
   "cell_type": "markdown",
   "metadata": {},
   "source": [
    "Croma month wise Total Sales Amount"
   ]
  },
  {
   "cell_type": "code",
   "execution_count": 7,
   "metadata": {},
   "outputs": [
    {
     "name": "stdout",
     "output_type": "stream",
     "text": [
      "          date   Total_gp\n",
      "34  2018-02-01  144799.54\n",
      "35  2018-01-01  127574.73\n",
      "36  2017-12-01  245673.84\n",
      "37  2017-10-01  162687.56\n",
      "38  2017-09-01  122407.57\n"
     ]
    }
   ],
   "source": [
    "query = \"\"\"\n",
    "select m.date,\n",
    "       sum(round(m.sold_quantity*gp.gross_price,2)) as Total_gp\n",
    " from fact_sales_monthly m\n",
    " join fact_gross_price gp on gp.product_code = m.product_code and gp.fiscal_year = get_fiscal_year(m.date)\n",
    "where customer_code = 90002002 \n",
    "group by m.date\n",
    "order by m.date desc;\n",
    "\"\"\"\n",
    "fact_sales_monthly = pd.read_sql(query,engine)\n",
    "print(fact_sales_monthly.tail())"
   ]
  },
  {
   "cell_type": "code",
   "execution_count": 11,
   "metadata": {},
   "outputs": [
    {
     "name": "stdout",
     "output_type": "stream",
     "text": [
      "            date  fiscal_year product_code          product    market  \\\n",
      "9995  2021-08-01         2021  A7321160301  AQ Wi Power Dx3  Pakistan   \n",
      "9996  2021-08-01         2021  A7321160301  AQ Wi Power Dx3  Pakistan   \n",
      "9997  2021-08-01         2021  A7321160301  AQ Wi Power Dx3  Pakistan   \n",
      "9998  2021-08-01         2021  A7321160301  AQ Wi Power Dx3  Pakistan   \n",
      "9999  2021-08-01         2021  A7321160301  AQ Wi Power Dx3  Pakistan   \n",
      "\n",
      "       variant  sold_quantity  gross_price  Total_gp  \\\n",
      "9995  Standard             23      40.7954    938.29   \n",
      "9996  Standard             23      40.7954    938.29   \n",
      "9997  Standard             23      40.7954    938.29   \n",
      "9998  Standard             23      40.7954    938.29   \n",
      "9999  Standard             23      40.7954    938.29   \n",
      "\n",
      "      pre_invoice_discount_pct  po_discount  Net_Invoice_Sales  \n",
      "9995                    0.2471       0.3037             706.44  \n",
      "9996                    0.2471       0.3938             706.44  \n",
      "9997                    0.2471       0.4127             706.44  \n",
      "9998                    0.2471       0.3372             706.44  \n",
      "9999                    0.2471       0.3747             706.44  \n"
     ]
    }
   ],
   "source": [
    "query = \"\"\"\n",
    "with cte as(\n",
    "select m.date,Year(adddate(m.date,interval 4 month)) as fiscal_year,m.product_code,\n",
    "       p.product,c.market,p.variant,m.sold_quantity,\n",
    "       gp.gross_price,round(m.sold_quantity*gp.gross_price,2) as Total_gp,\n",
    "       pd.pre_invoice_discount_pct,pod.discounts_pct+pod.other_deductions_pct as po_discount\n",
    " from fact_sales_monthly m\n",
    " join dim_product p on p.product_code = m.product_code\n",
    " join dim_customer c on c.customer_code = m.customer_code\n",
    " join fact_gross_price gp on gp.product_code = m.product_code and gp.fiscal_year = get_fiscal_year(m.date)\n",
    " join fact_pre_invoice_deductions pd on pd.customer_code = m.customer_code and pd.fiscal_year = get_fiscal_year(m.date)\n",
    " join fact_post_invoice_deductions pod on pod.customer_code = m.customer_code and get_fiscal_year(pod.date) =get_fiscal_year(m.date)\n",
    "where \n",
    "get_fiscal_year(m.date) = 2021)\n",
    "select *,\n",
    "round((1-pre_invoice_discount_pct)*Total_gp,2) as Net_Invoice_Sales\n",
    "from cte \n",
    "order by 1 desc\n",
    "limit 10000 ;\n",
    "\n",
    "\"\"\"\n",
    "top_customer = pd.read_sql(query,engine)\n",
    "print(top_customer.tail())"
   ]
  },
  {
   "cell_type": "code",
   "execution_count": 12,
   "metadata": {},
   "outputs": [
    {
     "data": {
      "text/html": [
       "<div>\n",
       "<style scoped>\n",
       "    .dataframe tbody tr th:only-of-type {\n",
       "        vertical-align: middle;\n",
       "    }\n",
       "\n",
       "    .dataframe tbody tr th {\n",
       "        vertical-align: top;\n",
       "    }\n",
       "\n",
       "    .dataframe thead th {\n",
       "        text-align: right;\n",
       "    }\n",
       "</style>\n",
       "<table border=\"1\" class=\"dataframe\">\n",
       "  <thead>\n",
       "    <tr style=\"text-align: right;\">\n",
       "      <th></th>\n",
       "      <th>date</th>\n",
       "      <th>fiscal_year</th>\n",
       "      <th>product_code</th>\n",
       "      <th>product</th>\n",
       "      <th>market</th>\n",
       "      <th>variant</th>\n",
       "      <th>sold_quantity</th>\n",
       "      <th>gross_price</th>\n",
       "      <th>Total_gp</th>\n",
       "      <th>pre_invoice_discount_pct</th>\n",
       "      <th>po_discount</th>\n",
       "      <th>Net_Invoice_Sales</th>\n",
       "      <th>Net_Sales</th>\n",
       "    </tr>\n",
       "  </thead>\n",
       "  <tbody>\n",
       "    <tr>\n",
       "      <th>0</th>\n",
       "      <td>2021-08-01</td>\n",
       "      <td>2021</td>\n",
       "      <td>A7321160301</td>\n",
       "      <td>AQ Wi Power Dx3</td>\n",
       "      <td>India</td>\n",
       "      <td>Standard</td>\n",
       "      <td>681</td>\n",
       "      <td>40.7954</td>\n",
       "      <td>27781.67</td>\n",
       "      <td>0.2061</td>\n",
       "      <td>0.4142</td>\n",
       "      <td>22055.87</td>\n",
       "      <td>12920.33</td>\n",
       "    </tr>\n",
       "    <tr>\n",
       "      <th>1</th>\n",
       "      <td>2021-08-01</td>\n",
       "      <td>2021</td>\n",
       "      <td>A7321160301</td>\n",
       "      <td>AQ Wi Power Dx3</td>\n",
       "      <td>India</td>\n",
       "      <td>Standard</td>\n",
       "      <td>681</td>\n",
       "      <td>40.7954</td>\n",
       "      <td>27781.67</td>\n",
       "      <td>0.2061</td>\n",
       "      <td>0.4233</td>\n",
       "      <td>22055.87</td>\n",
       "      <td>12719.62</td>\n",
       "    </tr>\n",
       "    <tr>\n",
       "      <th>2</th>\n",
       "      <td>2021-08-01</td>\n",
       "      <td>2021</td>\n",
       "      <td>A7321160301</td>\n",
       "      <td>AQ Wi Power Dx3</td>\n",
       "      <td>India</td>\n",
       "      <td>Standard</td>\n",
       "      <td>681</td>\n",
       "      <td>40.7954</td>\n",
       "      <td>27781.67</td>\n",
       "      <td>0.2061</td>\n",
       "      <td>0.3813</td>\n",
       "      <td>22055.87</td>\n",
       "      <td>13645.97</td>\n",
       "    </tr>\n",
       "    <tr>\n",
       "      <th>3</th>\n",
       "      <td>2021-08-01</td>\n",
       "      <td>2021</td>\n",
       "      <td>A7321160301</td>\n",
       "      <td>AQ Wi Power Dx3</td>\n",
       "      <td>India</td>\n",
       "      <td>Standard</td>\n",
       "      <td>681</td>\n",
       "      <td>40.7954</td>\n",
       "      <td>27781.67</td>\n",
       "      <td>0.2061</td>\n",
       "      <td>0.3879</td>\n",
       "      <td>22055.87</td>\n",
       "      <td>13500.40</td>\n",
       "    </tr>\n",
       "    <tr>\n",
       "      <th>4</th>\n",
       "      <td>2021-08-01</td>\n",
       "      <td>2021</td>\n",
       "      <td>A7321160301</td>\n",
       "      <td>AQ Wi Power Dx3</td>\n",
       "      <td>India</td>\n",
       "      <td>Standard</td>\n",
       "      <td>681</td>\n",
       "      <td>40.7954</td>\n",
       "      <td>27781.67</td>\n",
       "      <td>0.2061</td>\n",
       "      <td>0.4370</td>\n",
       "      <td>22055.87</td>\n",
       "      <td>12417.45</td>\n",
       "    </tr>\n",
       "  </tbody>\n",
       "</table>\n",
       "</div>"
      ],
      "text/plain": [
       "         date  fiscal_year product_code          product market   variant  \\\n",
       "0  2021-08-01         2021  A7321160301  AQ Wi Power Dx3  India  Standard   \n",
       "1  2021-08-01         2021  A7321160301  AQ Wi Power Dx3  India  Standard   \n",
       "2  2021-08-01         2021  A7321160301  AQ Wi Power Dx3  India  Standard   \n",
       "3  2021-08-01         2021  A7321160301  AQ Wi Power Dx3  India  Standard   \n",
       "4  2021-08-01         2021  A7321160301  AQ Wi Power Dx3  India  Standard   \n",
       "\n",
       "   sold_quantity  gross_price  Total_gp  pre_invoice_discount_pct  \\\n",
       "0            681      40.7954  27781.67                    0.2061   \n",
       "1            681      40.7954  27781.67                    0.2061   \n",
       "2            681      40.7954  27781.67                    0.2061   \n",
       "3            681      40.7954  27781.67                    0.2061   \n",
       "4            681      40.7954  27781.67                    0.2061   \n",
       "\n",
       "   po_discount  Net_Invoice_Sales  Net_Sales  \n",
       "0       0.4142           22055.87   12920.33  \n",
       "1       0.4233           22055.87   12719.62  \n",
       "2       0.3813           22055.87   13645.97  \n",
       "3       0.3879           22055.87   13500.40  \n",
       "4       0.4370           22055.87   12417.45  "
      ]
     },
     "execution_count": 12,
     "metadata": {},
     "output_type": "execute_result"
    }
   ],
   "source": [
    "top_customer['Net_Sales'] =  round((1-top_customer['po_discount'])*top_customer['Net_Invoice_Sales'],2)\n",
    "top_customer[top_customer['fiscal_year'] == 2021]\n",
    "top_customer.head()"
   ]
  },
  {
   "cell_type": "code",
   "execution_count": 13,
   "metadata": {},
   "outputs": [
    {
     "data": {
      "text/plain": [
       "market\n",
       "India        40511375.29\n",
       "Indonesia    11787858.08\n",
       "Japan         2772671.23\n",
       "Pakistan       446715.67\n",
       "Name: Net_Sales, dtype: float64"
      ]
     },
     "execution_count": 13,
     "metadata": {},
     "output_type": "execute_result"
    }
   ],
   "source": [
    "g = top_customer.groupby('market')['Net_Sales'].sum()\n",
    "g"
   ]
  },
  {
   "cell_type": "code",
   "execution_count": 14,
   "metadata": {},
   "outputs": [
    {
     "data": {
      "text/plain": [
       "variant\n",
       "Standard    55518620.27\n",
       "Name: Net_Sales, dtype: float64"
      ]
     },
     "execution_count": 14,
     "metadata": {},
     "output_type": "execute_result"
    }
   ],
   "source": [
    "g = top_customer.groupby('variant')['Net_Sales'].sum()\n",
    "g"
   ]
  },
  {
   "cell_type": "code",
   "execution_count": null,
   "metadata": {},
   "outputs": [],
   "source": []
  }
 ],
 "metadata": {
  "kernelspec": {
   "display_name": "Python 3",
   "language": "python",
   "name": "python3"
  },
  "language_info": {
   "codemirror_mode": {
    "name": "ipython",
    "version": 3
   },
   "file_extension": ".py",
   "mimetype": "text/x-python",
   "name": "python",
   "nbconvert_exporter": "python",
   "pygments_lexer": "ipython3",
   "version": "3.11.3"
  }
 },
 "nbformat": 4,
 "nbformat_minor": 2
}

{
 "cells": [
  {
   "cell_type": "code",
   "execution_count": 2,
   "metadata": {},
   "outputs": [],
   "source": [
    "import pandas as pd\n",
    "import numpy as np\n",
    "import matplotlib as plt\n",
    "import seaborn as sns\n",
    "import warnings\n",
    "warnings.filterwarnings('ignore')"
   ]
  },
  {
   "cell_type": "code",
   "execution_count": 3,
   "metadata": {},
   "outputs": [],
   "source": [
    "import sqlalchemy\n",
    "# Connect to database\n",
    "PWD='root'\n",
    "USR='root'\n",
    "SQLALCHEMY_DATABASE_URI = 'mysql+pymysql://{}:{}@localhost:3306/gdb0041'.format(USR, PWD)\n",
    "engine = sqlalchemy.create_engine(SQLALCHEMY_DATABASE_URI)"
   ]
  },
  {
   "cell_type": "markdown",
   "metadata": {},
   "source": [
    "**P&L Statement**<br />\n",
    "Gross = 50<br />\n",
    "pre-Invoice deduction = 5(for regular customer)<br />\n",
    "Net-Invoice-sales = 45<br />\n",
    "post-Invoice deduction = 5(display priority fee)<br />\n",
    "Net-Sales = 40<br />\n",
    "COGS = 20 (COST OF GOODS SOLD)<br />\n",
    "Margin = 20<br />\n",
    "margin % = 50 (M/NS)<br />"
   ]
  },
  {
   "cell_type": "markdown",
   "metadata": {},
   "source": [
    "Find the croma customer aggregated by product in monthly basis"
   ]
  },
  {
   "cell_type": "code",
   "execution_count": 4,
   "metadata": {},
   "outputs": [
    {
     "data": {
      "text/html": [
       "<div>\n",
       "<style scoped>\n",
       "    .dataframe tbody tr th:only-of-type {\n",
       "        vertical-align: middle;\n",
       "    }\n",
       "\n",
       "    .dataframe tbody tr th {\n",
       "        vertical-align: top;\n",
       "    }\n",
       "\n",
       "    .dataframe thead th {\n",
       "        text-align: right;\n",
       "    }\n",
       "</style>\n",
       "<table border=\"1\" class=\"dataframe\">\n",
       "  <thead>\n",
       "    <tr style=\"text-align: right;\">\n",
       "      <th></th>\n",
       "      <th>customer_code</th>\n",
       "      <th>customer</th>\n",
       "      <th>platform</th>\n",
       "      <th>channel</th>\n",
       "      <th>market</th>\n",
       "      <th>sub_zone</th>\n",
       "      <th>region</th>\n",
       "    </tr>\n",
       "  </thead>\n",
       "  <tbody>\n",
       "    <tr>\n",
       "      <th>48</th>\n",
       "      <td>90002002</td>\n",
       "      <td>Croma</td>\n",
       "      <td>Brick &amp; Mortar</td>\n",
       "      <td>Retailer</td>\n",
       "      <td>India</td>\n",
       "      <td>India</td>\n",
       "      <td>APAC</td>\n",
       "    </tr>\n",
       "  </tbody>\n",
       "</table>\n",
       "</div>"
      ],
      "text/plain": [
       "    customer_code customer        platform   channel market sub_zone region\n",
       "48       90002002    Croma  Brick & Mortar  Retailer  India    India   APAC"
      ]
     },
     "execution_count": 4,
     "metadata": {},
     "output_type": "execute_result"
    }
   ],
   "source": [
    "query = \"\"\"\n",
    "select * from dim_customer \n",
    "\"\"\"\n",
    "df_dim_customer = pd.read_sql(query,engine)\n",
    "#df_dim_customer['customer'].unique()\n",
    "df_dim_customer[df_dim_customer['customer'] == 'Croma']"
   ]
  },
  {
   "cell_type": "markdown",
   "metadata": {},
   "source": [
    "To create a fiscal year calendar, add 4 months to the calendar date in the database where September marks the fiscal year's start"
   ]
  },
  {
   "cell_type": "code",
   "execution_count": 12,
   "metadata": {},
   "outputs": [
    {
     "name": "stdout",
     "output_type": "stream",
     "text": [
      "           date product_code  customer_code  sold_quantity Quater\n",
      "663  2020-10-01  A7321160301       90002002            479     Q1\n",
      "664  2020-09-01  A7321160302       90002002            507     Q1\n",
      "665  2020-10-01  A7321160302       90002002            243     Q1\n",
      "666  2020-09-01  A7321160303       90002002            190     Q1\n",
      "667  2020-10-01  A7321160303       90002002            586     Q1\n",
      "['Q1']\n"
     ]
    }
   ],
   "source": [
    "query = \"\"\"\n",
    "select *,\n",
    "(CASE when Month(date) in (9,10,11) Then 'Q1'\n",
    "     when Month(date) in (12,1,2) Then 'Q2'\n",
    "     when Month(date) in (3,4,5) Then 'Q3' else 'Q4' END ) AS Quater\n",
    " from fact_sales_monthly\n",
    "where customer_code = 90002002 and\n",
    "year(date_add(date,interval 4 month)) = 2021 and\n",
    "(CASE when Month(date) in (9,10,11) Then 'Q1'\n",
    "     when Month(date) in (12,1,2) Then 'Q2'\n",
    "     when Month(date) in (3,4,5) Then 'Q3' else 'Q4' END )='Q1'\n",
    "\"\"\"\n",
    "df_fact_sales_monthly = pd.read_sql(query,engine)\n",
    "print(df_fact_sales_monthly.tail())\n",
    "print(df_fact_sales_monthly['Quater'].unique())"
   ]
  },
  {
   "cell_type": "code",
   "execution_count": 13,
   "metadata": {},
   "outputs": [
    {
     "name": "stdout",
     "output_type": "stream",
     "text": [
      "            date product_code          product  variant  sold_quantity  \\\n",
      "3001  2021-02-01  A7321160303  AQ Wi Power Dx3  Premium            186   \n",
      "3002  2021-04-01  A7321160303  AQ Wi Power Dx3  Premium            148   \n",
      "3003  2021-05-01  A7321160303  AQ Wi Power Dx3  Premium            487   \n",
      "3004  2021-06-01  A7321160303  AQ Wi Power Dx3  Premium            289   \n",
      "3005  2021-08-01  A7321160303  AQ Wi Power Dx3  Premium            158   \n",
      "\n",
      "      gross_price  Total_gp  \n",
      "3001      42.8483   7969.78  \n",
      "3002      42.8483   6341.55  \n",
      "3003      42.8483  20867.12  \n",
      "3004      42.8483  12383.16  \n",
      "3005      42.8483   6770.03  \n"
     ]
    }
   ],
   "source": [
    "query = \"\"\"\n",
    "select m.date,m.product_code,\n",
    "       p.product,p.variant,m.sold_quantity,\n",
    "       gp.gross_price,round(m.sold_quantity*gp.gross_price,2) as Total_gp\n",
    " from fact_sales_monthly m\n",
    " join dim_product p on p.product_code = m.product_code\n",
    " join fact_gross_price gp on gp.product_code = m.product_code and gp.fiscal_year = get_fiscal_year(m.date)\n",
    "where customer_code = 90002002 and\n",
    "get_fiscal_year(date) = 2021;\n",
    "\"\"\"\n",
    "fact_sales_monthly = pd.read_sql(query,engine)\n",
    "print(fact_sales_monthly.tail())"
   ]
  },
  {
   "cell_type": "markdown",
   "metadata": {},
   "source": [
    "Croma month wise Total Sales Amount"
   ]
  },
  {
   "cell_type": "code",
   "execution_count": 14,
   "metadata": {},
   "outputs": [
    {
     "name": "stdout",
     "output_type": "stream",
     "text": [
      "          date   Total_gp\n",
      "34  2018-02-01  144799.54\n",
      "35  2018-01-01  127574.73\n",
      "36  2017-12-01  245673.84\n",
      "37  2017-10-01  162687.56\n",
      "38  2017-09-01  122407.57\n"
     ]
    }
   ],
   "source": [
    "query = \"\"\"\n",
    "select m.date,\n",
    "       sum(round(m.sold_quantity*gp.gross_price,2)) as Total_gp\n",
    " from fact_sales_monthly m\n",
    " join fact_gross_price gp on gp.product_code = m.product_code and gp.fiscal_year = get_fiscal_year(m.date)\n",
    "where customer_code = 90002002 \n",
    "group by m.date\n",
    "order by m.date desc;\n",
    "\"\"\"\n",
    "fact_sales_monthly = pd.read_sql(query,engine)\n",
    "print(fact_sales_monthly.tail())"
   ]
  },
  {
   "cell_type": "code",
   "execution_count": 15,
   "metadata": {},
   "outputs": [
    {
     "name": "stdout",
     "output_type": "stream",
     "text": [
      "            date  fiscal_year product_code  sold_quantity          product  \\\n",
      "8179  2021-06-01         2021  A7321160303            289  AQ Wi Power Dx3   \n",
      "8180  2021-08-01         2021  A7321160303            158  AQ Wi Power Dx3   \n",
      "8181  2021-09-01         2022  A7321160303            759  AQ Wi Power Dx3   \n",
      "8182  2021-10-01         2022  A7321160303            169  AQ Wi Power Dx3   \n",
      "8183  2021-12-01         2022  A7321160303            523  AQ Wi Power Dx3   \n",
      "\n",
      "      variant market  gross_price  Total_gp  pre_invoice_discount_pct  \\\n",
      "8179  Premium  India      42.8483  12383.16                    0.3025   \n",
      "8180  Premium  India      42.8483   6770.03                    0.3025   \n",
      "8181  Premium  India      43.5559  33058.93                    0.1828   \n",
      "8182  Premium  India      43.5559   7360.95                    0.1828   \n",
      "8183  Premium  India      43.5559  22779.74                    0.1828   \n",
      "\n",
      "      Net_Invoice_Sales  \n",
      "8179            8637.25  \n",
      "8180            4722.10  \n",
      "8181           27015.76  \n",
      "8182            6015.37  \n",
      "8183           18615.60  \n"
     ]
    }
   ],
   "source": [
    "query = \"\"\"\n",
    "with cte_pre_invoice as\n",
    "(\n",
    "select m.date,Year(adddate(m.date,interval 4 month)) as fiscal_year,\n",
    "\t\tm.product_code,m.sold_quantity, p.product,p.variant,c.market, gp.gross_price,\n",
    "        round(m.sold_quantity*gp.gross_price,2) as Total_gp,pd.pre_invoice_discount_pct\n",
    "from fact_sales_monthly m \n",
    " join dim_product p on p.product_code = m.product_code\n",
    " join dim_customer c on c.customer_code = m.customer_code\n",
    " join fact_gross_price gp on gp.product_code = m.product_code and gp.fiscal_year = get_fiscal_year(m.date)\n",
    " join fact_pre_invoice_deductions pd on pd.customer_code = m.customer_code and pd.fiscal_year = get_fiscal_year(m.date)\n",
    "where m.customer_code in (90002002,90020102,70019204)\n",
    ")select *,\n",
    "round((1-pre_invoice_discount_pct)*Total_gp,2) as Net_Invoice_Sales \n",
    "from  cte_pre_invoice;\n",
    "\"\"\"\n",
    "top_customer = pd.read_sql(query,engine)\n",
    "print(top_customer.tail())"
   ]
  },
  {
   "cell_type": "code",
   "execution_count": 16,
   "metadata": {},
   "outputs": [
    {
     "data": {
      "text/plain": [
       "market\n",
       "India    79236070.63\n",
       "Name: Total_gp, dtype: float64"
      ]
     },
     "execution_count": 16,
     "metadata": {},
     "output_type": "execute_result"
    }
   ],
   "source": [
    "g = top_customer.groupby('market')['Total_gp'].sum()\n",
    "g"
   ]
  },
  {
   "cell_type": "code",
   "execution_count": 17,
   "metadata": {},
   "outputs": [
    {
     "data": {
      "text/plain": [
       "variant\n",
       "Standard               6244198.47\n",
       "Premium                6010485.22\n",
       "Plus                   4490806.69\n",
       "Plus 2                 4192448.91\n",
       "Plus 1                 3515938.63\n",
       "Premium Black          3165711.76\n",
       "Premium 2              3066281.93\n",
       "Premium 1              2988717.71\n",
       "Premium Misty Green    2859284.03\n",
       "Standard 2             2686938.67\n",
       "Standard 1             2553275.11\n",
       "Standard Grey          2062098.93\n",
       "Standard Blue          1947320.39\n",
       "Standard Red           1880020.15\n",
       "Plus Blue              1870028.30\n",
       "Plus Red               1741912.84\n",
       "Plus Grey              1419169.15\n",
       "Plus Black             1320964.94\n",
       "Standard 3             1268834.59\n",
       "Plus Cool Blue         1237185.62\n",
       "Plus 3                 1207740.23\n",
       "Plus Firey Red         1064114.15\n",
       "Standard Firey Red     1013481.69\n",
       "Standard Black          995506.41\n",
       "Standard Cool Blue      845841.28\n",
       "Plus 1                  166064.41\n",
       "Premium Plus             96311.54\n",
       "Name: Net_Invoice_Sales, dtype: float64"
      ]
     },
     "execution_count": 17,
     "metadata": {},
     "output_type": "execute_result"
    }
   ],
   "source": [
    "g = top_customer.groupby('variant')['Net_Invoice_Sales'].sum().sort_values(ascending=False)\n",
    "g"
   ]
  },
  {
   "cell_type": "code",
   "execution_count": 6,
   "metadata": {},
   "outputs": [
    {
     "name": "stdout",
     "output_type": "stream",
     "text": [
      "         date  fiscal_year product_code  customer_code  sold_quantity  \\\n",
      "0  2017-09-01         2018  A0118150101       90002002             40   \n",
      "1  2017-09-01         2018  A0118150101       90002002             40   \n",
      "2  2017-09-01         2018  A0118150101       90002002             40   \n",
      "3  2017-09-01         2018  A0118150101       90002002             40   \n",
      "4  2017-09-01         2018  A0118150101       90002002             40   \n",
      "\n",
      "                                             product   variant customer  \\\n",
      "0  AQ Dracula HDD – 3.5 Inch SATA 6 Gb/s 5400 RPM...  Standard    Croma   \n",
      "1  AQ Dracula HDD – 3.5 Inch SATA 6 Gb/s 5400 RPM...  Standard    Croma   \n",
      "2  AQ Dracula HDD – 3.5 Inch SATA 6 Gb/s 5400 RPM...  Standard    Croma   \n",
      "3  AQ Dracula HDD – 3.5 Inch SATA 6 Gb/s 5400 RPM...  Standard    Croma   \n",
      "4  AQ Dracula HDD – 3.5 Inch SATA 6 Gb/s 5400 RPM...  Standard    Croma   \n",
      "\n",
      "  market   channel region  gross_price  Total_gp  pre_invoice_discount_pct  \\\n",
      "0  India  Retailer   APAC      15.3952    615.81                    0.2005   \n",
      "1  India  Retailer   APAC      15.3952    615.81                    0.2005   \n",
      "2  India  Retailer   APAC      15.3952    615.81                    0.2005   \n",
      "3  India  Retailer   APAC      15.3952    615.81                    0.2005   \n",
      "4  India  Retailer   APAC      15.3952    615.81                    0.2005   \n",
      "\n",
      "   Net_Invoice_Sales  Incude_other_postdeduction    Net_sale  \n",
      "0             492.34                      0.3067  341.339322  \n",
      "1             492.34                      0.3333  328.243078  \n",
      "2             492.34                      0.4128  289.102048  \n",
      "3             492.34                      0.4077  291.612982  \n",
      "4             492.34                      0.3990  295.896340  \n"
     ]
    }
   ],
   "source": [
    "query = \"\"\"\n",
    "select *,\n",
    "((1- Incude_other_postdeduction)*Net_Invoice_Sales) as Net_sale\n",
    "from net_sales_vw\n",
    "where customer_code in (90002002,90020102,70019204);\n",
    "\"\"\"\n",
    "top_customer = pd.read_sql(query,engine)\n",
    "print(top_customer.head())"
   ]
  },
  {
   "cell_type": "code",
   "execution_count": 28,
   "metadata": {},
   "outputs": [
    {
     "data": {
      "text/html": [
       "<div>\n",
       "<style scoped>\n",
       "    .dataframe tbody tr th:only-of-type {\n",
       "        vertical-align: middle;\n",
       "    }\n",
       "\n",
       "    .dataframe tbody tr th {\n",
       "        vertical-align: top;\n",
       "    }\n",
       "\n",
       "    .dataframe thead th {\n",
       "        text-align: right;\n",
       "    }\n",
       "</style>\n",
       "<table border=\"1\" class=\"dataframe\">\n",
       "  <thead>\n",
       "    <tr style=\"text-align: right;\">\n",
       "      <th></th>\n",
       "      <th>date</th>\n",
       "      <th>fiscal_year</th>\n",
       "      <th>product_code</th>\n",
       "      <th>customer_code</th>\n",
       "      <th>sold_quantity</th>\n",
       "      <th>product</th>\n",
       "      <th>variant</th>\n",
       "      <th>customer</th>\n",
       "      <th>market</th>\n",
       "      <th>channel</th>\n",
       "      <th>region</th>\n",
       "      <th>gross_price</th>\n",
       "      <th>Total_gp</th>\n",
       "      <th>pre_invoice_discount_pct</th>\n",
       "      <th>Net_Invoice_Sales</th>\n",
       "      <th>Incude_other_postdeduction</th>\n",
       "      <th>Net_sale</th>\n",
       "      <th>Net_sale_mln</th>\n",
       "    </tr>\n",
       "  </thead>\n",
       "  <tbody>\n",
       "    <tr>\n",
       "      <th>517028</th>\n",
       "      <td>2021-12-01</td>\n",
       "      <td>2022</td>\n",
       "      <td>A7321160303</td>\n",
       "      <td>90020102</td>\n",
       "      <td>26</td>\n",
       "      <td>AQ Wi Power Dx3</td>\n",
       "      <td>Premium</td>\n",
       "      <td>Fnac-Darty</td>\n",
       "      <td>Austria</td>\n",
       "      <td>Retailer</td>\n",
       "      <td>EU</td>\n",
       "      <td>43.5559</td>\n",
       "      <td>1132.45</td>\n",
       "      <td>0.3011</td>\n",
       "      <td>791.47</td>\n",
       "      <td>0.3724</td>\n",
       "      <td>496.726572</td>\n",
       "      <td>0.000497</td>\n",
       "    </tr>\n",
       "  </tbody>\n",
       "</table>\n",
       "</div>"
      ],
      "text/plain": [
       "              date  fiscal_year product_code  customer_code  sold_quantity  \\\n",
       "517028  2021-12-01         2022  A7321160303       90020102             26   \n",
       "\n",
       "                product  variant    customer   market   channel region  \\\n",
       "517028  AQ Wi Power Dx3  Premium  Fnac-Darty  Austria  Retailer     EU   \n",
       "\n",
       "        gross_price  Total_gp  pre_invoice_discount_pct  Net_Invoice_Sales  \\\n",
       "517028      43.5559   1132.45                    0.3011             791.47   \n",
       "\n",
       "        Incude_other_postdeduction    Net_sale  Net_sale_mln  \n",
       "517028                      0.3724  496.726572      0.000497  "
      ]
     },
     "execution_count": 28,
     "metadata": {},
     "output_type": "execute_result"
    }
   ],
   "source": [
    "top_customer['Net_sale_mln'] = top_customer['Net_sale'].apply(lambda x: x/1000000)\n",
    "top_customer.tail(1)"
   ]
  },
  {
   "cell_type": "code",
   "execution_count": 21,
   "metadata": {},
   "outputs": [
    {
     "data": {
      "text/plain": [
       "customer\n",
       "Atliq e Store      39.874998\n",
       "Croma            1103.459823\n",
       "Fnac-Darty         26.633251\n",
       "Name: Net_sale_mln, dtype: float64"
      ]
     },
     "execution_count": 21,
     "metadata": {},
     "output_type": "execute_result"
    }
   ],
   "source": [
    "g = top_customer.groupby('customer')['Net_sale_mln'].sum()\n",
    "g"
   ]
  },
  {
   "cell_type": "code",
   "execution_count": 24,
   "metadata": {},
   "outputs": [
    {
     "data": {
      "text/plain": [
       "<Axes: ylabel='customer'>"
      ]
     },
     "execution_count": 24,
     "metadata": {},
     "output_type": "execute_result"
    },
    {
     "data": {
      "image/png": "[encoded data removed]",
      "text/plain": [
       "<Figure size 640x480 with 1 Axes>"
      ]
     },
     "metadata": {},
     "output_type": "display_data"
    }
   ],
   "source": [
    "g.plot(kind='barh')"
   ]
  },
  {
   "cell_type": "code",
   "execution_count": 25,
   "metadata": {},
   "outputs": [
    {
     "data": {
      "text/plain": [
       "market\n",
       "Austria      26.633251\n",
       "India      1103.459823\n",
       "Sweden       39.874998\n",
       "Name: Net_sale_mln, dtype: float64"
      ]
     },
     "execution_count": 25,
     "metadata": {},
     "output_type": "execute_result"
    }
   ],
   "source": [
    "top_customer.groupby('market')['Net_sale_mln'].sum()"
   ]
  },
  {
   "cell_type": "code",
   "execution_count": 26,
   "metadata": {},
   "outputs": [
    {
     "data": {
      "text/plain": [
       "channel\n",
       "Direct        39.874998\n",
       "Retailer    1130.093074\n",
       "Name: Net_sale_mln, dtype: float64"
      ]
     },
     "execution_count": 26,
     "metadata": {},
     "output_type": "execute_result"
    }
   ],
   "source": [
    "top_customer.groupby('channel')['Net_sale_mln'].sum()"
   ]
  },
  {
   "cell_type": "code",
   "execution_count": 27,
   "metadata": {},
   "outputs": [
    {
     "data": {
      "text/plain": [
       "region\n",
       "APAC    1103.459823\n",
       "EU        66.508249\n",
       "Name: Net_sale_mln, dtype: float64"
      ]
     },
     "execution_count": 27,
     "metadata": {},
     "output_type": "execute_result"
    }
   ],
   "source": [
    "top_customer.groupby('region')['Net_sale_mln'].sum()"
   ]
  },
  {
   "cell_type": "code",
   "execution_count": null,
   "metadata": {},
   "outputs": [],
   "source": []
  }
 ],
 "metadata": {
  "kernelspec": {
   "display_name": "Python 3",
   "language": "python",
   "name": "python3"
  },
  "language_info": {
   "codemirror_mode": {
    "name": "ipython",
    "version": 3
   },
   "file_extension": ".py",
   "mimetype": "text/x-python",
   "name": "python",
   "nbconvert_exporter": "python",
   "pygments_lexer": "ipython3",
   "version": "3.11.3"
  }
 },
 "nbformat": 4,
 "nbformat_minor": 2
}
